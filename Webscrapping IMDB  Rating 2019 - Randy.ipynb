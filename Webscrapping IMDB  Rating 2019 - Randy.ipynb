{
 "cells": [
  {
   "cell_type": "markdown",
   "metadata": {},
   "source": [
    "# IMDB Rating Webscrapping using BeautifulSoup\n",
    "\n",
    "Tujuan capstone project ini adalah mendapatkan data yg diinginkan dari web IMDB. Data yg diinginkan adalah list film yang ditampilkan pada halaman web dan variabel yg mengikutinya. Variabel tsb antara lain : Judul film, Genres, Rating, Metascore dan Total Votes\n"
   ]
  },
  {
   "cell_type": "markdown",
   "metadata": {
    "ExecuteTime": {
     "end_time": "2020-08-06T17:49:43.587102Z",
     "start_time": "2020-08-06T17:49:41.913329Z"
    }
   },
   "source": [
    "import requests\n",
    "\n",
    "url_get = requests.get('https://www.imdb.com/search/title/?release_date=2019-01-01,2019-12-31')"
   ]
  },
  {
   "cell_type": "markdown",
   "metadata": {},
   "source": [
    "To visualize what exactly you get from the `request.get`, we can use .content so ee what we exactly get, in here i slice it so it won't make our screen full of the html we get from the page. You can delete the slicing if you want to see what we fully get."
   ]
  },
  {
   "cell_type": "code",
   "execution_count": 121,
   "metadata": {
    "ExecuteTime": {
     "end_time": "2020-08-06T17:49:43.595532Z",
     "start_time": "2020-08-06T17:49:43.587102Z"
    }
   },
   "outputs": [
    {
     "data": {
      "text/plain": [
       "b'\\n\\n<!DOCTYPE html>\\n<html\\n    xmlns:og=\"http://ogp.me/ns#\"\\n    xmlns:fb=\"http://www.facebook.com/2008/fbml\">\\n    <head>\\n         \\n        <meta charset=\"utf-8\">\\n        <meta http-equiv=\"X-UA-Compatible\" content=\"IE=edge\">\\n\\n    <meta name=\"apple-itunes-app\" content=\"app-id=342792525, app-argument=imdb:///?src=mdot\">\\n\\n\\n\\n        <script type=\"text/javascript\">var IMDbTimer={starttime: new Date().getTime(),pt:\\'java\\'};</script>\\n\\n<script>\\n    if (typeof uet == \\'function\\') {\\n      uet(\"bb\", \"LoadTitle\", {wb: 1});\\n    }\\n</script>\\n  <script>(function(t){ (t.events = t.events || {})[\"csm_head_pre_title\"] = new Date().getTime(); })(IMDbTimer);</script>\\n        <title>Released between 2019-01-01 and 2019-12-31\\n(Sorted by Popularity Ascending) - IMDb</title>\\n  <script>(function(t'"
      ]
     },
     "execution_count": 121,
     "metadata": {},
     "output_type": "execute_result"
    }
   ],
   "source": [
    "url_get.content[1:777]"
   ]
  },
  {
   "cell_type": "markdown",
   "metadata": {},
   "source": [
    "As we can see we get a very unstructured and complex html, which actually contains the codes needed to show the webpages on your web browser. But we as human still confused what and where we can use that piece of code, so here where we use the beautifulsoup. Beautiful soup class will result a beautifulsoup object. Beautiful Soup transforms a complex HTML document into a complex tree of Python objects. But you’ll only ever have to deal with about four kinds of objects: `Tag`, `NavigableString`, `BeautifulSoup`, and `Comment`. But at this module we will only use `BeautifulSoup`."
   ]
  },
  {
   "cell_type": "code",
   "execution_count": 122,
   "metadata": {
    "ExecuteTime": {
     "end_time": "2020-08-06T17:49:43.797256Z",
     "start_time": "2020-08-06T17:49:43.597558Z"
    }
   },
   "outputs": [
    {
     "name": "stdout",
     "output_type": "stream",
     "text": [
      "<class 'bs4.BeautifulSoup'>\n"
     ]
    }
   ],
   "source": [
    "from bs4 import BeautifulSoup \n",
    "\n",
    "soup = BeautifulSoup(url_get.content,\"html.parser\")\n",
    "print(type(soup))"
   ]
  },
  {
   "cell_type": "markdown",
   "metadata": {},
   "source": [
    "Let's see how our beautifulsoup looks like. As you can see, the content is the same with our `get_url` object but it's tidier. Also beautifulsoup give us method to make it even more prettier, for tidyness purpouse we slice to only see first 1045 character. "
   ]
  },
  {
   "cell_type": "code",
   "execution_count": 123,
   "metadata": {
    "ExecuteTime": {
     "end_time": "2020-08-06T17:49:43.886098Z",
     "start_time": "2020-08-06T17:49:43.797256Z"
    }
   },
   "outputs": [
    {
     "name": "stdout",
     "output_type": "stream",
     "text": [
      "<!DOCTYPE html>\n",
      "<html xmlns:fb=\"http://www.facebook.com/2008/fbml\" xmlns:og=\"http://ogp.me/ns#\">\n",
      " <head>\n",
      "  <meta charset=\"utf-8\"/>\n",
      "  <meta content=\"IE=edge\" http-equiv=\"X-UA-Compatible\"/>\n",
      "  <meta content=\"app-id=342792525, app-argument=imdb:///?src=mdot\" name=\"apple-itunes-app\"/>\n",
      "  <script type=\"text/javascript\">\n",
      "   var IMDbTimer={starttime: new Date().getTime(),pt:'java'};\n",
      "  </script>\n",
      "  <script>\n",
      "   if (typeof uet == 'function') {\n",
      "      uet(\"bb\", \"LoadTitle\", {wb: 1});\n",
      "    }\n",
      "  </script>\n",
      "  <script>\n",
      "   (function(t){ (t.events = t.events || {})[\"csm_head_pre_title\"] = new Date().getTime(); })(IMDbTimer);\n",
      "  </script>\n",
      "  <title>\n",
      "   Released between 2019-01-01 and 2019-12-31\n",
      "(Sorted by Popularity Ascending) - IMDb\n",
      "  </title>\n",
      "  <script>\n",
      "   (function(t){ (t.events = t.events || {})[\"csm_head_post_title\"] = new Date().getTime(); })(IMDbTimer);\n",
      "  </script>\n",
      "  <script>\n",
      "   if (typeof uet == 'function') {\n",
      "      uet(\"be\", \"LoadTitle\", {wb: 1});\n",
      "    }\n",
      "  </script>\n",
      "  <script>\n",
      "   if (typeof uex == 'function') {\n",
      "      uex(\"ld\", \"LoadTitle\", {wb: 1});\n"
     ]
    }
   ],
   "source": [
    "print(soup.prettify()[:1045])"
   ]
  },
  {
   "cell_type": "markdown",
   "metadata": {},
   "source": [
    "Karena, data yg diinginkan berada di dalam class `lister-item mode-advanced` maka dimasukkan dalam atribut"
   ]
  },
  {
   "cell_type": "code",
   "execution_count": 148,
   "metadata": {
    "ExecuteTime": {
     "end_time": "2020-08-06T18:03:49.260454Z",
     "start_time": "2020-08-06T18:03:49.244153Z"
    }
   },
   "outputs": [
    {
     "name": "stdout",
     "output_type": "stream",
     "text": [
      "div class=\"lister-item mode-advanced\">\n",
      " <div class=\"lister-top-right\">\n",
      "  <div class=\"ribbonize\" data-caller=\"filmosearch\" data-tconst=\"tt1312171\">\n",
      "  </div>\n",
      " </div>\n",
      " <div class=\"lister-item-image float-left\">\n",
      "  <a href=\"/title/tt1312171/\">\n",
      "   <img alt=\"The Umbrella Academy\" class=\"loadlate\" data-tconst=\"tt1312171\" height=\"98\" loadlate=\"https://m.media-amazon.com/images/M/MV5BNzA5MjkwYzMtNGY2MS00YWRjLThkNTktOTNmMzdlZjE3Y2IxXkEyXkFqcGdeQXVyMjkwMzMxODg@._V1_UX67_CR0,0,67,98_AL_.jpg\" src=\"https://m.media-amazon.com/images/G/01/imdb/images/nopicture/large/film-184890147._CB466725069_.png\" width=\"67\"/>\n",
      "  </a>\n",
      " </div>\n",
      " <div class=\"lister-item-content\">\n",
      "  <h3 class=\"lister-item-header\">\n",
      "   <span class=\"lister-item-index unbold text-primary\">\n",
      "    1.\n",
      "   </span>\n",
      "   <a href=\"/title/tt1312171/\">\n",
      "    The Umbrella Academy\n",
      "   </a>\n",
      "   <span class=\"lister-item-year text-muted unbold\">\n",
      "    (2019– )\n",
      "   </span>\n",
      "  </h3>\n",
      "  <p class=\"text-muted\">\n",
      "   <span class=\"runtime\">\n",
      "    60 min\n",
      "   </span>\n",
      "   <span class=\"ghost\">\n",
      "    |\n",
      "   </span>\n",
      "   <span class=\"genre\">\n",
      "    Action, Adventure, Comedy\n",
      "   </span>\n",
      "  </p>\n",
      "  <div class=\"ratings-bar\">\n",
      "   <div class=\"inline-block ratings-imdb-rating\" data-value=\"8\" name=\"ir\">\n",
      "    <span class=\"global-sprite rating-star imdb-rating\">\n",
      "    </span>\n",
      "    <strong>\n",
      "     8.0\n",
      "    </strong>\n",
      "   </div>\n",
      "   <div class=\"inline-block ratings-user-rating\">\n",
      "    <span class=\"userRatingValue\" data-tconst=\"tt1312171\" id=\"urv_tt1312171\">\n",
      "     <span class=\"global-sprite rating-star no-rating\">\n",
      "     </span>\n",
      "     <span class=\"rate\" data-no-rating=\"Rate this\" data-value=\"0\" name=\"ur\">\n",
      "      Rate this\n",
      "     </span>\n",
      "    </span>\n",
      "    <div class=\"starBarWidget\" id=\"sb_tt1312171\">\n",
      "     <div class=\"rating rating-list\" data-auth=\"\" data-ga-identifier=\"\" data-starbar-class=\"rating-list\" data-user=\"\" id=\"tt1312171|imdb|8|8|adv_li_tt||advsearch|title\" itemprop=\"aggregateRating\" itemscope=\"\" itemtype=\"http://schema.org/AggregateRating\" title=\"Users rated this 8/10 (112,252 votes) - click stars to rate\">\n",
      "      <meta content=\"8\" itemprop=\"ratingValue\"/>\n",
      "      <meta content=\"10\" itemprop=\"bestRating\"/>\n",
      "      <meta content=\"112252\" itemprop=\"ratingCount\"/>\n",
      "      <span class=\"rating-bg\">\n",
      "      </span>\n",
      "      <span class=\"rating-imdb\" style=\"width: 112px\">\n",
      "      </span>\n",
      "      <span class=\"rating-stars\">\n",
      "       <a href=\"/register/login?why=vote\" rel=\"nofollow\" title=\"Register or login to rate this title\">\n",
      "        <span>\n",
      "         1\n",
      "        </span>\n",
      "       </a>\n",
      "       <a href=\"/register/login?why=vote\" rel=\"nofollow\" title=\"Register or login to rate this title\">\n",
      "        <span>\n",
      "         2\n",
      "        </span>\n",
      "       </a>\n",
      "       <a href=\"/register/login?why=vote\" rel=\"nofollow\" title=\"Register or login to rate this title\">\n",
      "        <span>\n",
      "         3\n",
      "        </span>\n",
      "       </a>\n",
      "       <a href=\"/register/login?why=vote\" rel=\"nofollow\" title=\"Register or login to rate this title\">\n",
      "        <span>\n",
      "         4\n",
      "        </span>\n",
      "       </a>\n",
      "       <a href=\"/register/login?why=vote\" rel=\"nofollow\" title=\"Register or login to rate this title\">\n",
      "        <span>\n",
      "         5\n",
      "        </span>\n",
      "       </a>\n",
      "       <a href=\"/register/login?why=vote\" rel=\"nofollow\" title=\"Register or login to rate this title\">\n",
      "        <span>\n",
      "         6\n",
      "        </span>\n",
      "       </a>\n",
      "       <a href=\"/register/login?why=vote\" rel=\"nofollow\" title=\"Register or login to rate this title\">\n",
      "        <span>\n",
      "         7\n",
      "        </span>\n",
      "       </a>\n",
      "       <a href=\"/register/login?why=vote\" rel=\"nofollow\" title=\"Register or login to rate this title\">\n",
      "        <span>\n",
      "         8\n",
      "        </span>\n",
      "       </a>\n",
      "       <a href=\"/register/login?why=vote\" rel=\"nofollow\" title=\"Register or login to rate this title\">\n",
      "        <span>\n",
      "         9\n",
      "        </span>\n",
      "       </a>\n",
      "       <a href=\"/register/login?why=vote\" rel=\"nofollow\" title=\"Register or login to rate this title\">\n",
      "        <span>\n",
      "         10\n",
      "        </span>\n",
      "       </a>\n",
      "      </span>\n",
      "      <span class=\"rating-rating\">\n",
      "       <span class=\"value\">\n",
      "        8\n",
      "       </span>\n",
      "       <span class=\"grey\">\n",
      "        /\n",
      "       </span>\n",
      "       <span class=\"grey\">\n",
      "        10\n",
      "       </span>\n",
      "      </span>\n",
      "      <span class=\"rating-cancel\">\n",
      "       <a href=\"/title/tt1312171/vote?v=X;k=\" rel=\"nofollow\" title=\"Delete\">\n",
      "        <span>\n",
      "         X\n",
      "        </span>\n",
      "       </a>\n",
      "      </span>\n",
      "     </div>\n",
      "    </div>\n",
      "   </div>\n",
      "  </div>\n",
      "  <p class=\"text-muted\">\n",
      "   A family of former child heroes, now grown apart, must reunite to continue to protect the world.\n",
      "  \n"
     ]
    }
   ],
   "source": [
    "film = soup.find('div', attrs={'class':'lister-item mode-advanced'})\n",
    "print(film.prettify()[1:4444])"
   ]
  },
  {
   "cell_type": "markdown",
   "metadata": {},
   "source": [
    "Variabel yg ingin di di-scrap- pada web tersebut sbb:\n",
    "\n",
    "- Title movie\n",
    "- Genre\n",
    "- IMDB Rating\n",
    "- Total Votes\n",
    "- Film description"
   ]
  },
  {
   "cell_type": "markdown",
   "metadata": {},
   "source": [
    "# Data Scrapping"
   ]
  },
  {
   "cell_type": "code",
   "execution_count": 125,
   "metadata": {
    "ExecuteTime": {
     "end_time": "2020-08-06T17:49:43.933981Z",
     "start_time": "2020-08-06T17:49:43.902020Z"
    },
    "scrolled": true
   },
   "outputs": [
    {
     "data": {
      "text/plain": [
       "['The Umbrella Academy',\n",
       " 'The Boys',\n",
       " 'Knives Out',\n",
       " 'Watchmen',\n",
       " 'Euphoria',\n",
       " 'In the Dark',\n",
       " 'Doom Patrol',\n",
       " 'For All Mankind',\n",
       " 'The Mandalorian',\n",
       " 'The Gentlemen',\n",
       " 'Hanna',\n",
       " 'The Witcher',\n",
       " 'Once Upon a Time... in Hollywood',\n",
       " 'Yes, God, Yes',\n",
       " 'His Dark Materials',\n",
       " 'Joker',\n",
       " 'Gisaengchung',\n",
       " 'After',\n",
       " 'Motherless Brooklyn',\n",
       " 'Avengers: Endgame',\n",
       " 'Ford v Ferrari',\n",
       " 'What We Do in the Shadows',\n",
       " 'How to Sell Drugs Online (Fast)',\n",
       " 'The Morning Show',\n",
       " 'Doctor Sleep',\n",
       " 'Midway',\n",
       " 'Midsommar',\n",
       " \"Charlie's Angels\",\n",
       " '1917',\n",
       " 'Koma',\n",
       " 'Dead to Me',\n",
       " 'Chhichhore',\n",
       " 'Radioactive',\n",
       " 'Little Women',\n",
       " 'Chernobyl',\n",
       " 'Uncut Gems',\n",
       " 'Sex Education',\n",
       " 'Vivarium',\n",
       " 'Star Wars: Episode IX - The Rise of Skywalker',\n",
       " 'Prodigal Son',\n",
       " 'Jumanji: The Next Level',\n",
       " 'The Order',\n",
       " 'Terminator: Dark Fate',\n",
       " 'Ad Astra',\n",
       " 'Jojo Rabbit',\n",
       " 'It Chapter Two',\n",
       " 'Yip Man 4',\n",
       " 'The Irishman',\n",
       " 'Reckoning',\n",
       " 'Ready or Not']"
      ]
     },
     "execution_count": 125,
     "metadata": {},
     "output_type": "execute_result"
    }
   ],
   "source": [
    "#find movie title\n",
    "movie_title = []\n",
    "for title in soup.findAll('h3', {'class':'lister-item-header'}):\n",
    "    titles = title.find('a', href = True).get_text()\n",
    "    movie_title.append(titles)\n",
    "movie_title"
   ]
  },
  {
   "cell_type": "code",
   "execution_count": 126,
   "metadata": {
    "ExecuteTime": {
     "end_time": "2020-08-06T17:49:43.965970Z",
     "start_time": "2020-08-06T17:49:43.933981Z"
    }
   },
   "outputs": [
    {
     "data": {
      "text/plain": [
       "['Action, Adventure, Comedy',\n",
       " 'Action, Comedy, Crime',\n",
       " 'Comedy, Crime, Drama',\n",
       " 'Action, Drama, Mystery',\n",
       " 'Drama',\n",
       " 'Comedy, Crime, Drama',\n",
       " 'Action, Adventure, Comedy',\n",
       " 'Drama, Sci-Fi',\n",
       " 'Action, Adventure, Sci-Fi',\n",
       " 'Action, Comedy, Crime',\n",
       " 'Action, Drama',\n",
       " 'Action, Adventure, Fantasy',\n",
       " 'Comedy, Drama',\n",
       " 'Comedy, Drama',\n",
       " 'Adventure, Drama, Family',\n",
       " 'Crime, Drama, Thriller',\n",
       " 'Comedy, Drama, Thriller',\n",
       " 'Drama, Romance',\n",
       " 'Crime, Drama, Mystery',\n",
       " 'Action, Adventure, Drama',\n",
       " 'Action, Biography, Drama',\n",
       " 'Comedy, Fantasy, Horror',\n",
       " 'Comedy, Crime, Drama',\n",
       " 'Drama',\n",
       " 'Drama, Fantasy, Horror',\n",
       " 'Action, Adventure, Drama',\n",
       " 'Drama, Horror, Mystery',\n",
       " 'Action, Adventure, Comedy',\n",
       " 'Drama, War',\n",
       " 'Action, Adventure, Fantasy',\n",
       " 'Comedy, Drama',\n",
       " 'Comedy, Drama',\n",
       " 'Biography, Drama, Romance',\n",
       " 'Drama, Romance',\n",
       " 'Drama, History, Thriller',\n",
       " 'Crime, Drama, Thriller',\n",
       " 'Comedy, Drama',\n",
       " 'Comedy, Horror, Mystery',\n",
       " 'Action, Adventure, Fantasy',\n",
       " 'Crime, Drama, Mystery',\n",
       " 'Action, Adventure, Comedy',\n",
       " 'Drama, Fantasy, Horror',\n",
       " 'Action, Adventure, Sci-Fi',\n",
       " 'Adventure, Drama, Mystery',\n",
       " 'Comedy, Drama, War',\n",
       " 'Drama, Fantasy, Horror',\n",
       " 'Action, Biography, Drama',\n",
       " 'Biography, Crime, Drama',\n",
       " 'Thriller',\n",
       " 'Comedy, Horror, Mystery']"
      ]
     },
     "execution_count": 126,
     "metadata": {},
     "output_type": "execute_result"
    }
   ],
   "source": [
    "#genre\n",
    "genre_list = []\n",
    "for genre in soup.findAll('span', attrs= {'class':'genre'}):\n",
    "    genre = genre.get_text()\n",
    "    genre_list.append(genre.strip())\n",
    "genre_list"
   ]
  },
  {
   "cell_type": "code",
   "execution_count": 176,
   "metadata": {
    "ExecuteTime": {
     "end_time": "2020-08-07T04:20:55.765784Z",
     "start_time": "2020-08-07T04:20:55.729460Z"
    }
   },
   "outputs": [
    {
     "data": {
      "text/plain": [
       "['8.0',\n",
       " '8.7',\n",
       " '7.9',\n",
       " '8.1',\n",
       " '8.3',\n",
       " '7.4',\n",
       " '8.0',\n",
       " '7.5',\n",
       " '8.7',\n",
       " '7.9',\n",
       " '7.5',\n",
       " '8.2',\n",
       " '7.7',\n",
       " '5.9',\n",
       " '7.9',\n",
       " '8.5',\n",
       " '8.6',\n",
       " '5.4',\n",
       " '6.8',\n",
       " '8.4',\n",
       " '8.1',\n",
       " '8.5',\n",
       " '7.9',\n",
       " '8.4',\n",
       " '7.4',\n",
       " '6.7',\n",
       " '7.1',\n",
       " '4.7',\n",
       " '8.3',\n",
       " '6.3',\n",
       " '8.0',\n",
       " '8.2',\n",
       " '6.1',\n",
       " '7.9',\n",
       " '9.4',\n",
       " '7.4',\n",
       " '8.3',\n",
       " '5.8',\n",
       " '6.6',\n",
       " '7.7',\n",
       " '6.7',\n",
       " '6.8',\n",
       " '6.2',\n",
       " '6.6',\n",
       " '7.9',\n",
       " '6.6',\n",
       " '7.1',\n",
       " '7.9',\n",
       " '6.6',\n",
       " '6.8']"
      ]
     },
     "execution_count": 176,
     "metadata": {},
     "output_type": "execute_result"
    }
   ],
   "source": [
    "#IMDB Rating\n",
    "imdb_rating = []\n",
    "for rating in soup.findAll('div', {'class':'ratings-bar'}):\n",
    "    rating = rating.find('strong').get_text()\n",
    "    imdb_rating.append(rating)\n",
    "imdb_rating\n"
   ]
  },
  {
   "cell_type": "code",
   "execution_count": 155,
   "metadata": {
    "ExecuteTime": {
     "end_time": "2020-08-06T18:06:16.759536Z",
     "start_time": "2020-08-06T18:06:16.709367Z"
    }
   },
   "outputs": [
    {
     "data": {
      "text/plain": [
       "['112,193',\n",
       " '156,895',\n",
       " '360,378',\n",
       " '74,534',\n",
       " '44,539',\n",
       " '4,869',\n",
       " '28,402',\n",
       " '9,448',\n",
       " '181,924',\n",
       " '170,125',\n",
       " '22,515',\n",
       " '264,120',\n",
       " '498,350',\n",
       " '1,846',\n",
       " '36,690',\n",
       " '837,670',\n",
       " '457,624',\n",
       " '29,668',\n",
       " '33,265',\n",
       " '745,913',\n",
       " '243,553',\n",
       " '28,699',\n",
       " '15,361',\n",
       " '39,323',\n",
       " '116,344',\n",
       " '54,874',\n",
       " '171,389',\n",
       " '47,157',\n",
       " '352,477',\n",
       " '3,549',\n",
       " '47,846',\n",
       " '27,350',\n",
       " '3,295',\n",
       " '118,391',\n",
       " '485,787',\n",
       " '194,093',\n",
       " '139,465',\n",
       " '26,043',\n",
       " '342,891',\n",
       " '9,431',\n",
       " '162,446',\n",
       " '17,427',\n",
       " '129,483',\n",
       " '181,774',\n",
       " '243,090',\n",
       " '189,036',\n",
       " '19,636',\n",
       " '301,037',\n",
       " '2,183',\n",
       " '92,338']"
      ]
     },
     "execution_count": 155,
     "metadata": {},
     "output_type": "execute_result"
    }
   ],
   "source": [
    "#total votes\n",
    "total_votes = []\n",
    "movie_div = soup.find_all('div', class_='lister-item mode-advanced')\n",
    "\n",
    "for vote in movie_div:\n",
    "        nv = vote.find_all('span', attrs={'name': 'nv'})\n",
    "        vote = nv[0].text\n",
    "        total_votes.append(vote)\n",
    "        \n",
    "total_votes"
   ]
  },
  {
   "cell_type": "code",
   "execution_count": 233,
   "metadata": {
    "ExecuteTime": {
     "end_time": "2020-08-07T09:55:50.732009Z",
     "start_time": "2020-08-07T09:55:50.683457Z"
    }
   },
   "outputs": [
    {
     "data": {
      "text/plain": [
       "['-',\n",
       " '-',\n",
       " '82        ',\n",
       " '-',\n",
       " '-',\n",
       " '-',\n",
       " '-',\n",
       " '-',\n",
       " '-',\n",
       " '51        ',\n",
       " '-',\n",
       " '-',\n",
       " '83        ',\n",
       " '71        ',\n",
       " '-',\n",
       " '59        ',\n",
       " '96        ',\n",
       " '30        ',\n",
       " '60        ',\n",
       " '78        ',\n",
       " '81        ',\n",
       " '-',\n",
       " '-',\n",
       " '-',\n",
       " '59        ',\n",
       " '47        ',\n",
       " '72        ',\n",
       " '52        ',\n",
       " '78        ',\n",
       " '-',\n",
       " '-',\n",
       " '-',\n",
       " '56        ',\n",
       " '91        ',\n",
       " '-',\n",
       " '90        ',\n",
       " '-',\n",
       " '64        ',\n",
       " '53        ',\n",
       " '-',\n",
       " '58        ',\n",
       " '-',\n",
       " '54        ',\n",
       " '80        ',\n",
       " '58        ',\n",
       " '58        ',\n",
       " '62        ',\n",
       " '94        ',\n",
       " '-',\n",
       " '64        ']"
      ]
     },
     "execution_count": 233,
     "metadata": {},
     "output_type": "execute_result"
    }
   ],
   "source": [
    "metascores = []\n",
    "\n",
    "for meta in movie_div:\n",
    "        m_score = meta.find('span', class_='metascore').text if meta.find('span', class_='metascore') else '-'\n",
    "        metascores.append(m_score)\n",
    "metascores"
   ]
  },
  {
   "cell_type": "markdown",
   "metadata": {},
   "source": [
    "Setelah semua variabel yg diinginkan telah kita dapatkan. Maka selanjutnya di assign ke dalam sebuah dataframe"
   ]
  },
  {
   "cell_type": "code",
   "execution_count": 253,
   "metadata": {
    "ExecuteTime": {
     "end_time": "2020-08-07T12:46:58.131927Z",
     "start_time": "2020-08-07T12:46:58.112993Z"
    }
   },
   "outputs": [
    {
     "data": {
      "text/html": [
       "<div>\n",
       "<style scoped>\n",
       "    .dataframe tbody tr th:only-of-type {\n",
       "        vertical-align: middle;\n",
       "    }\n",
       "\n",
       "    .dataframe tbody tr th {\n",
       "        vertical-align: top;\n",
       "    }\n",
       "\n",
       "    .dataframe thead th {\n",
       "        text-align: right;\n",
       "    }\n",
       "</style>\n",
       "<table border=\"1\" class=\"dataframe\">\n",
       "  <thead>\n",
       "    <tr style=\"text-align: right;\">\n",
       "      <th></th>\n",
       "      <th>Movie</th>\n",
       "      <th>Genre</th>\n",
       "      <th>IMDB_Rating</th>\n",
       "      <th>Votes</th>\n",
       "      <th>Metascores</th>\n",
       "    </tr>\n",
       "  </thead>\n",
       "  <tbody>\n",
       "    <tr>\n",
       "      <th>45</th>\n",
       "      <td>It Chapter Two</td>\n",
       "      <td>Drama, Fantasy, Horror</td>\n",
       "      <td>6.6</td>\n",
       "      <td>189,036</td>\n",
       "      <td>58</td>\n",
       "    </tr>\n",
       "    <tr>\n",
       "      <th>46</th>\n",
       "      <td>Yip Man 4</td>\n",
       "      <td>Action, Biography, Drama</td>\n",
       "      <td>7.1</td>\n",
       "      <td>19,636</td>\n",
       "      <td>62</td>\n",
       "    </tr>\n",
       "    <tr>\n",
       "      <th>47</th>\n",
       "      <td>The Irishman</td>\n",
       "      <td>Biography, Crime, Drama</td>\n",
       "      <td>7.9</td>\n",
       "      <td>301,037</td>\n",
       "      <td>94</td>\n",
       "    </tr>\n",
       "    <tr>\n",
       "      <th>48</th>\n",
       "      <td>Reckoning</td>\n",
       "      <td>Thriller</td>\n",
       "      <td>6.6</td>\n",
       "      <td>2,183</td>\n",
       "      <td>-</td>\n",
       "    </tr>\n",
       "    <tr>\n",
       "      <th>49</th>\n",
       "      <td>Ready or Not</td>\n",
       "      <td>Comedy, Horror, Mystery</td>\n",
       "      <td>6.8</td>\n",
       "      <td>92,338</td>\n",
       "      <td>64</td>\n",
       "    </tr>\n",
       "  </tbody>\n",
       "</table>\n",
       "</div>"
      ],
      "text/plain": [
       "             Movie                     Genre IMDB_Rating    Votes  Metascores\n",
       "45  It Chapter Two    Drama, Fantasy, Horror         6.6  189,036  58        \n",
       "46       Yip Man 4  Action, Biography, Drama         7.1   19,636  62        \n",
       "47    The Irishman   Biography, Crime, Drama         7.9  301,037  94        \n",
       "48       Reckoning                  Thriller         6.6    2,183           -\n",
       "49    Ready or Not   Comedy, Horror, Mystery         6.8   92,338  64        "
      ]
     },
     "execution_count": 253,
     "metadata": {},
     "output_type": "execute_result"
    }
   ],
   "source": [
    "import pandas as pd\n",
    "\n",
    "df = pd.DataFrame({\n",
    "    'Movie': movie_title,\n",
    "    'Genre': genre_list,\n",
    "    'IMDB_Rating': imdb_rating,\n",
    "    'Votes': total_votes,\n",
    "    'Metascores' : metascores\n",
    "})\n",
    "df.tail()"
   ]
  },
  {
   "cell_type": "markdown",
   "metadata": {},
   "source": [
    "\n",
    "# Data Pre-Processing"
   ]
  },
  {
   "cell_type": "markdown",
   "metadata": {},
   "source": [
    "Pada proses dibawah akan dilakukan perubahan data type dan menghilangkan ',' pada value kolom Votes"
   ]
  },
  {
   "cell_type": "code",
   "execution_count": 239,
   "metadata": {
    "ExecuteTime": {
     "end_time": "2020-08-07T10:00:33.727967Z",
     "start_time": "2020-08-07T10:00:33.705775Z"
    },
    "scrolled": false
   },
   "outputs": [
    {
     "data": {
      "text/plain": [
       "Movie          object\n",
       "Genre          object\n",
       "IMDB_Rating    object\n",
       "Votes          object\n",
       "Metascores     object\n",
       "dtype: object"
      ]
     },
     "execution_count": 239,
     "metadata": {},
     "output_type": "execute_result"
    }
   ],
   "source": [
    "df.dtypes"
   ]
  },
  {
   "cell_type": "code",
   "execution_count": 240,
   "metadata": {
    "ExecuteTime": {
     "end_time": "2020-08-07T10:00:36.040577Z",
     "start_time": "2020-08-07T10:00:36.032598Z"
    }
   },
   "outputs": [],
   "source": [
    "df['IMDB_Rating'] = df['IMDB_Rating'].astype('float')"
   ]
  },
  {
   "cell_type": "code",
   "execution_count": 241,
   "metadata": {
    "ExecuteTime": {
     "end_time": "2020-08-07T10:00:37.590820Z",
     "start_time": "2020-08-07T10:00:37.576554Z"
    }
   },
   "outputs": [],
   "source": [
    "def remove_str(votes):\n",
    "    for r in ((',',''), ('(',''),(')','')):\n",
    "        votes = votes.replace(*r)\n",
    "        \n",
    "    return votes"
   ]
  },
  {
   "cell_type": "code",
   "execution_count": 242,
   "metadata": {
    "ExecuteTime": {
     "end_time": "2020-08-07T10:00:39.343311Z",
     "start_time": "2020-08-07T10:00:39.327531Z"
    },
    "scrolled": true
   },
   "outputs": [
    {
     "data": {
      "text/html": [
       "<div>\n",
       "<style scoped>\n",
       "    .dataframe tbody tr th:only-of-type {\n",
       "        vertical-align: middle;\n",
       "    }\n",
       "\n",
       "    .dataframe tbody tr th {\n",
       "        vertical-align: top;\n",
       "    }\n",
       "\n",
       "    .dataframe thead th {\n",
       "        text-align: right;\n",
       "    }\n",
       "</style>\n",
       "<table border=\"1\" class=\"dataframe\">\n",
       "  <thead>\n",
       "    <tr style=\"text-align: right;\">\n",
       "      <th></th>\n",
       "      <th>Movie</th>\n",
       "      <th>Genre</th>\n",
       "      <th>IMDB_Rating</th>\n",
       "      <th>Votes</th>\n",
       "      <th>Metascores</th>\n",
       "    </tr>\n",
       "  </thead>\n",
       "  <tbody>\n",
       "    <tr>\n",
       "      <th>0</th>\n",
       "      <td>The Umbrella Academy</td>\n",
       "      <td>Action, Adventure, Comedy</td>\n",
       "      <td>8.0</td>\n",
       "      <td>112193</td>\n",
       "      <td>-</td>\n",
       "    </tr>\n",
       "    <tr>\n",
       "      <th>1</th>\n",
       "      <td>The Boys</td>\n",
       "      <td>Action, Comedy, Crime</td>\n",
       "      <td>8.7</td>\n",
       "      <td>156895</td>\n",
       "      <td>-</td>\n",
       "    </tr>\n",
       "    <tr>\n",
       "      <th>2</th>\n",
       "      <td>Knives Out</td>\n",
       "      <td>Comedy, Crime, Drama</td>\n",
       "      <td>7.9</td>\n",
       "      <td>360378</td>\n",
       "      <td>82</td>\n",
       "    </tr>\n",
       "    <tr>\n",
       "      <th>3</th>\n",
       "      <td>Watchmen</td>\n",
       "      <td>Action, Drama, Mystery</td>\n",
       "      <td>8.1</td>\n",
       "      <td>74534</td>\n",
       "      <td>-</td>\n",
       "    </tr>\n",
       "    <tr>\n",
       "      <th>4</th>\n",
       "      <td>Euphoria</td>\n",
       "      <td>Drama</td>\n",
       "      <td>8.3</td>\n",
       "      <td>44539</td>\n",
       "      <td>-</td>\n",
       "    </tr>\n",
       "  </tbody>\n",
       "</table>\n",
       "</div>"
      ],
      "text/plain": [
       "                  Movie                      Genre  IMDB_Rating   Votes  \\\n",
       "0  The Umbrella Academy  Action, Adventure, Comedy          8.0  112193   \n",
       "1              The Boys      Action, Comedy, Crime          8.7  156895   \n",
       "2            Knives Out       Comedy, Crime, Drama          7.9  360378   \n",
       "3              Watchmen     Action, Drama, Mystery          8.1   74534   \n",
       "4              Euphoria                      Drama          8.3   44539   \n",
       "\n",
       "   Metascores  \n",
       "0           -  \n",
       "1           -  \n",
       "2  82          \n",
       "3           -  \n",
       "4           -  "
      ]
     },
     "execution_count": 242,
     "metadata": {},
     "output_type": "execute_result"
    }
   ],
   "source": [
    "df['Votes'] = df.Votes.apply(remove_str).astype(int)\n",
    "\n",
    "df.head()"
   ]
  },
  {
   "cell_type": "code",
   "execution_count": 247,
   "metadata": {
    "ExecuteTime": {
     "end_time": "2020-08-07T10:01:22.574974Z",
     "start_time": "2020-08-07T10:01:22.566805Z"
    }
   },
   "outputs": [],
   "source": [
    "df['Votes'] = df['Votes'].astype('int64')"
   ]
  },
  {
   "cell_type": "code",
   "execution_count": 248,
   "metadata": {
    "ExecuteTime": {
     "end_time": "2020-08-07T10:01:24.381760Z",
     "start_time": "2020-08-07T10:01:24.358325Z"
    }
   },
   "outputs": [
    {
     "data": {
      "text/plain": [
       "Movie           object\n",
       "Genre           object\n",
       "IMDB_Rating    float64\n",
       "Votes            int64\n",
       "Metascores      object\n",
       "dtype: object"
      ]
     },
     "execution_count": 248,
     "metadata": {},
     "output_type": "execute_result"
    }
   ],
   "source": [
    "df.dtypes"
   ]
  },
  {
   "cell_type": "markdown",
   "metadata": {},
   "source": [
    "# Data Visualization"
   ]
  },
  {
   "cell_type": "code",
   "execution_count": 251,
   "metadata": {
    "ExecuteTime": {
     "end_time": "2020-08-07T10:59:22.945497Z",
     "start_time": "2020-08-07T10:59:22.745652Z"
    },
    "scrolled": true
   },
   "outputs": [
    {
     "data": {
      "text/plain": [
       "<matplotlib.axes._subplots.AxesSubplot at 0x1ffa2816100>"
      ]
     },
     "execution_count": 251,
     "metadata": {},
     "output_type": "execute_result"
    },
    {
     "data": {
      "image/png": "[encoded data removed]",
      "text/plain": [
       "<Figure size 504x504 with 1 Axes>"
      ]
     },
     "metadata": {},
     "output_type": "display_data"
    }
   ],
   "source": [
    "#Plot 7 film popular di tahun 2019\n",
    "\n",
    "df_popular = df.sort_values('Votes', ascending= False).head(7)\n",
    "df_popular.plot.barh(y='IMDB_Rating', x='Movie', figsize=(7,7))"
   ]
  },
  {
   "cell_type": "code",
   "execution_count": 252,
   "metadata": {
    "ExecuteTime": {
     "end_time": "2020-08-07T10:59:43.867939Z",
     "start_time": "2020-08-07T10:59:43.857922Z"
    }
   },
   "outputs": [
    {
     "data": {
      "text/html": [
       "<div>\n",
       "<style scoped>\n",
       "    .dataframe tbody tr th:only-of-type {\n",
       "        vertical-align: middle;\n",
       "    }\n",
       "\n",
       "    .dataframe tbody tr th {\n",
       "        vertical-align: top;\n",
       "    }\n",
       "\n",
       "    .dataframe thead th {\n",
       "        text-align: right;\n",
       "    }\n",
       "</style>\n",
       "<table border=\"1\" class=\"dataframe\">\n",
       "  <thead>\n",
       "    <tr style=\"text-align: right;\">\n",
       "      <th></th>\n",
       "      <th>Movie</th>\n",
       "      <th>Genre</th>\n",
       "      <th>IMDB_Rating</th>\n",
       "      <th>Votes</th>\n",
       "      <th>Metascores</th>\n",
       "    </tr>\n",
       "  </thead>\n",
       "  <tbody>\n",
       "    <tr>\n",
       "      <th>15</th>\n",
       "      <td>Joker</td>\n",
       "      <td>Crime, Drama, Thriller</td>\n",
       "      <td>8.5</td>\n",
       "      <td>837670</td>\n",
       "      <td>59</td>\n",
       "    </tr>\n",
       "    <tr>\n",
       "      <th>19</th>\n",
       "      <td>Avengers: Endgame</td>\n",
       "      <td>Action, Adventure, Drama</td>\n",
       "      <td>8.4</td>\n",
       "      <td>745913</td>\n",
       "      <td>78</td>\n",
       "    </tr>\n",
       "    <tr>\n",
       "      <th>12</th>\n",
       "      <td>Once Upon a Time... in Hollywood</td>\n",
       "      <td>Comedy, Drama</td>\n",
       "      <td>7.7</td>\n",
       "      <td>498350</td>\n",
       "      <td>83</td>\n",
       "    </tr>\n",
       "    <tr>\n",
       "      <th>34</th>\n",
       "      <td>Chernobyl</td>\n",
       "      <td>Drama, History, Thriller</td>\n",
       "      <td>9.4</td>\n",
       "      <td>485787</td>\n",
       "      <td>-</td>\n",
       "    </tr>\n",
       "    <tr>\n",
       "      <th>16</th>\n",
       "      <td>Gisaengchung</td>\n",
       "      <td>Comedy, Drama, Thriller</td>\n",
       "      <td>8.6</td>\n",
       "      <td>457624</td>\n",
       "      <td>96</td>\n",
       "    </tr>\n",
       "    <tr>\n",
       "      <th>2</th>\n",
       "      <td>Knives Out</td>\n",
       "      <td>Comedy, Crime, Drama</td>\n",
       "      <td>7.9</td>\n",
       "      <td>360378</td>\n",
       "      <td>82</td>\n",
       "    </tr>\n",
       "    <tr>\n",
       "      <th>28</th>\n",
       "      <td>1917</td>\n",
       "      <td>Drama, War</td>\n",
       "      <td>8.3</td>\n",
       "      <td>352477</td>\n",
       "      <td>78</td>\n",
       "    </tr>\n",
       "  </tbody>\n",
       "</table>\n",
       "</div>"
      ],
      "text/plain": [
       "                               Movie                     Genre  IMDB_Rating  \\\n",
       "15                             Joker    Crime, Drama, Thriller          8.5   \n",
       "19                 Avengers: Endgame  Action, Adventure, Drama          8.4   \n",
       "12  Once Upon a Time... in Hollywood             Comedy, Drama          7.7   \n",
       "34                         Chernobyl  Drama, History, Thriller          9.4   \n",
       "16                      Gisaengchung   Comedy, Drama, Thriller          8.6   \n",
       "2                         Knives Out      Comedy, Crime, Drama          7.9   \n",
       "28                              1917                Drama, War          8.3   \n",
       "\n",
       "     Votes  Metascores  \n",
       "15  837670  59          \n",
       "19  745913  78          \n",
       "12  498350  83          \n",
       "34  485787           -  \n",
       "16  457624  96          \n",
       "2   360378  82          \n",
       "28  352477  78          "
      ]
     },
     "execution_count": 252,
     "metadata": {},
     "output_type": "execute_result"
    }
   ],
   "source": [
    "df_popular"
   ]
  },
  {
   "cell_type": "code",
   "execution_count": 250,
   "metadata": {
    "ExecuteTime": {
     "end_time": "2020-08-07T10:03:08.450059Z",
     "start_time": "2020-08-07T10:03:08.235089Z"
    }
   },
   "outputs": [
    {
     "data": {
      "text/plain": [
       "<matplotlib.axes._subplots.AxesSubplot at 0x1ffa0551c40>"
      ]
     },
     "execution_count": 250,
     "metadata": {},
     "output_type": "execute_result"
    },
    {
     "data": {
      "image/png": "[encoded data removed]",
      "text/plain": [
       "<Figure size 720x720 with 1 Axes>"
      ]
     },
     "metadata": {},
     "output_type": "display_data"
    }
   ],
   "source": [
    "#Plot Korelasi antara Jumlah Votes dengan Nilai Rating\n",
    "\n",
    "import seaborn as sns\n",
    "import matplotlib.pyplot as plt\n",
    "\n",
    "sns.set(font_scale=1.5,font='Rubik',style='whitegrid')\n",
    "plt.figure(figsize=(10,10))\n",
    "sns.scatterplot(df.IMDB_Rating,df.Votes,alpha=0.5,s=100)"
   ]
  },
  {
   "cell_type": "markdown",
   "metadata": {},
   "source": [
    "Put your analysis and conclusion here. \n",
    "\n",
    "then put your flask dashboard link here too."
   ]
  }
 ],
 "metadata": {
  "kernelspec": {
   "display_name": "algoritma",
   "language": "python",
   "name": "algoritma"
  },
  "language_info": {
   "codemirror_mode": {
    "name": "ipython",
    "version": 3
   },
   "file_extension": ".py",
   "mimetype": "text/x-python",
   "name": "python",
   "nbconvert_exporter": "python",
   "pygments_lexer": "ipython3",
   "version": "3.8.3"
  }
 },
 "nbformat": 4,
 "nbformat_minor": 2
}
